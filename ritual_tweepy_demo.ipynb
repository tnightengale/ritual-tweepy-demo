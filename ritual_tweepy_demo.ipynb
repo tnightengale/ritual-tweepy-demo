{
 "cells": [
  {
   "cell_type": "code",
   "execution_count": 1,
   "metadata": {},
   "outputs": [],
   "source": [
    "import urllib.request as url\n",
    "from bs4 import BeautifulSoup\n",
    "import re\n",
    "import tweepy\n",
    "from tweepy import OAuthHandler\n",
    "import json\n",
    "from random import randrange\n",
    "import os"
   ]
  },
  {
   "cell_type": "code",
   "execution_count": 17,
   "metadata": {},
   "outputs": [],
   "source": [
    "# open json with keys and assign keys\n",
    "with open('/Users/tnightengale/Desktop/Projects/Ritual_Tweepy/'+\"authentication.json\", \"r\") as read_file:\n",
    "    keys = json.load(read_file)"
   ]
  },
  {
   "cell_type": "code",
   "execution_count": 13,
   "metadata": {
    "collapsed": true
   },
   "outputs": [],
   "source": [
    "def ritual_establishments(site, n_pages):\n",
    "    '''\n",
    "    Takes in the url of the ritual website and \n",
    "    the number of pages to scrape, and returns\n",
    "    a list of establishments names and a ordered\n",
    "    matching list of urls offered on the Ritual site.\n",
    "    '''\n",
    "    \n",
    "    pg_extensions = ['?page=' + str(i) for i in range(1,n_pages+1)]\n",
    "    \n",
    "    names = []\n",
    "    ids = []\n",
    "    \n",
    "    for extension in pg_extensions:\n",
    "        \n",
    "        current_page = url.urlopen(site + extension)\n",
    "        soup = BeautifulSoup(current_page, 'html.parser')\n",
    "        \n",
    "        taglist = soup.find_all('h2','card-title')\n",
    "        idlist = soup.find_all('div','card-marker')\n",
    "        \n",
    "        # create restaurant id extension to recreate url later\n",
    "        exten0 = re.search('.+?(?=city)',ritual_site).group(0) + 'menu/'\n",
    "        \n",
    "        \n",
    "        \n",
    "        exten1 = [exten0+_.string.lower().replace(\"'\",'').replace(' ','-').replace('(','').replace('/','-').replace(')','-').replace('--','-') for _ in taglist]\n",
    "        \n",
    "        \n",
    "        exten2 = [str(item) for item in idlist]\n",
    "        exten2 = [re.search('card_marker_....',_).group(0) for _ in exten2]\n",
    "        exten2 = ['toronto/' + item.split('_')[2] for item in exten2]\n",
    "        \n",
    "        exten = [i+j for i,j in zip(exten1,exten2)]\n",
    "        \n",
    "        \n",
    "        # clean names\n",
    "        establishments = [_.string for _ in taglist]\n",
    "        establishments = [re.search('[^(]*',_).group(0) for _ in establishments]\n",
    "        establishments = [_.rstrip(' ') for _ in establishments]\n",
    "        \n",
    "        names.append(establishments)\n",
    "        ids.append(exten)\n",
    "    \n",
    "    names = [i for j in names for i in j]\n",
    "    ids = [i for j in ids for i in j]\n",
    "    return names, ids"
   ]
  },
  {
   "cell_type": "code",
   "execution_count": 14,
   "metadata": {
    "collapsed": true
   },
   "outputs": [],
   "source": [
    "ritual_site = 'https://order.ritual.co/city/toronto'"
   ]
  },
  {
   "cell_type": "code",
   "execution_count": 15,
   "metadata": {
    "collapsed": true
   },
   "outputs": [],
   "source": [
    "clients, extensions = ritual_establishments(ritual_site,2)"
   ]
  },
  {
   "cell_type": "code",
   "execution_count": 32,
   "metadata": {
    "collapsed": true
   },
   "outputs": [],
   "source": [
    "global extensions\n",
    "global clients"
   ]
  },
  {
   "cell_type": "code",
   "execution_count": 25,
   "metadata": {},
   "outputs": [],
   "source": [
    "consumer_key = keys['lunchatron9000']['(API key)']\n",
    "consumer_secret = keys['lunchatron9000']['(API secret key)']\n",
    "access_token = keys['lunchatron9000']['(Access token)']\n",
    "access_secret = keys['lunchatron9000']['(Access token secret)']\n",
    " \n",
    "auth = OAuthHandler(consumer_key, consumer_secret)\n",
    "auth.set_access_token(access_token, access_secret)\n",
    " \n",
    "api = tweepy.API(auth)"
   ]
  },
  {
   "cell_type": "code",
   "execution_count": 27,
   "metadata": {},
   "outputs": [],
   "source": [
    "#override tweepy.StreamListener to add logic to on_status\n",
    "class MyStreamListener(tweepy.StreamListener):\n",
    "    \n",
    "    def __init__(self, api, dump_json=False, numtweets=0):\n",
    "        self.api = api\n",
    "        self.dump_json = dump_json\n",
    "        self.count = 1\n",
    "        self.limit = int(numtweets)\n",
    "    \n",
    "    def on_status(self, status):\n",
    "        # process tweet\n",
    "    \n",
    "        text = status.text\n",
    "        sender = '@' + status.user.screen_name\n",
    "        print('Incoming tweet: {}'.format(text))\n",
    "        \n",
    "        if 'lunch' in text:\n",
    "            r = randrange(len(clients))\n",
    "            reply = \"{} You should try {}! Order ahead with Ritual so everything is ready when you arrive! Here's the link: {}\".format(sender,clients[r],extensions[r])\n",
    "            api.update_status(reply)        \n",
    "    \n",
    "    def on_error(self, status_code):\n",
    "        if status_code == 420:\n",
    "            #returning False in on_data disconnects the stream\n",
    "            return False"
   ]
  },
  {
   "cell_type": "code",
   "execution_count": 37,
   "metadata": {
    "collapsed": true
   },
   "outputs": [],
   "source": [
    "myStreamListener = MyStreamListener(api)"
   ]
  },
  {
   "cell_type": "code",
   "execution_count": 38,
   "metadata": {
    "collapsed": true
   },
   "outputs": [],
   "source": [
    "myStream = tweepy.Stream(auth=api.auth,listener=myStreamListener)"
   ]
  },
  {
   "cell_type": "code",
   "execution_count": 39,
   "metadata": {
    "collapsed": true
   },
   "outputs": [],
   "source": [
    "monitor = '@' + api.me().screen_name"
   ]
  },
  {
   "cell_type": "code",
   "execution_count": null,
   "metadata": {
    "collapsed": true
   },
   "outputs": [],
   "source": [
    "myStream.filter(track=[monitor])"
   ]
  }
 ],
 "metadata": {
  "kernelspec": {
   "display_name": "Python 3",
   "language": "python",
   "name": "python3"
  },
  "language_info": {
   "codemirror_mode": {
    "name": "ipython",
    "version": 3
   },
   "file_extension": ".py",
   "mimetype": "text/x-python",
   "name": "python",
   "nbconvert_exporter": "python",
   "pygments_lexer": "ipython3",
   "version": "3.6.6"
  }
 },
 "nbformat": 4,
 "nbformat_minor": 2
}
